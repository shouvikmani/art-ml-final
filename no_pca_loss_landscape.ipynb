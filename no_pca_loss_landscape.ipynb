{
 "cells": [
  {
   "cell_type": "markdown",
   "metadata": {},
   "source": [
    "## No PCA Loss Landscapes\n",
    "\n",
    "An approach for computing and visualizing 3D loss landscapes for high-dimensional models."
   ]
  },
  {
   "cell_type": "code",
   "execution_count": null,
   "metadata": {
    "collapsed": true
   },
   "outputs": [],
   "source": [
    "import numpy as np\n",
    "import pandas as pd\n",
    "import matplotlib.pyplot as plt\n",
    "%matplotlib inline"
   ]
  },
  {
   "cell_type": "markdown",
   "metadata": {},
   "source": [
    "### Classifiers"
   ]
  },
  {
   "cell_type": "markdown",
   "metadata": {},
   "source": [
    "#### Logistic Regression"
   ]
  },
  {
   "cell_type": "code",
   "execution_count": null,
   "metadata": {
    "collapsed": true
   },
   "outputs": [],
   "source": [
    "class LogisticRegression():\n",
    "    \n",
    "    def loss(self, X, y, theta):\n",
    "        YX = X * y[:,None]\n",
    "        hy = YX @ theta\n",
    "        loss = np.log(1+np.exp(-hy)).mean()\n",
    "        error = (hy <= 0).mean()\n",
    "        return loss, error\n",
    "    \n",
    "    def gradient(self, X, y, theta):\n",
    "        YX = X * y[:,None]\n",
    "        m = X.shape[0]\n",
    "        gradient = -YX.T @ (1/(1+np.exp(YX @ theta)))/m\n",
    "        return gradient\n",
    "\n",
    "    def gradient_descent(self, X, y, alpha, iters):\n",
    "        m,n = X.shape\n",
    "        theta = np.zeros((iters+1, n))\n",
    "        loss, err = np.zeros(iters), np.zeros(iters)\n",
    "        for t in range(iters):\n",
    "            loss[t], err[t] = self.loss(X, y, theta[t])\n",
    "            theta[t+1] -= alpha * self.gradient(X, y, theta[t])\n",
    "        theta = theta[0:iters, :]\n",
    "        return theta, loss, err"
   ]
  },
  {
   "cell_type": "markdown",
   "metadata": {},
   "source": [
    "#### SVM"
   ]
  },
  {
   "cell_type": "code",
   "execution_count": null,
   "metadata": {
    "collapsed": true
   },
   "outputs": [],
   "source": [
    "class SVM():\n",
    "  \n",
    "    def loss(self, X, y, theta):\n",
    "        YX = X * y[:,None]\n",
    "        hy = YX @ theta\n",
    "        loss = np.maximum(1-hy,0).mean()\n",
    "        error = (hy <= 0).mean()\n",
    "        return loss, error\n",
    "    \n",
    "    def gradient(self, X, y, theta):\n",
    "        YX = X * y[:,None]\n",
    "        m = X.shape[0]\n",
    "        gradient = -YX.T @ (YX @ theta <= 1)/m\n",
    "        return gradient\n",
    "\n",
    "    def gradient_descent(self, X, y, alpha, iters):\n",
    "        m,n = X.shape\n",
    "        theta = np.zeros((iters+1, n))\n",
    "        loss, err = np.zeros(iters), np.zeros(iters)\n",
    "        for t in range(iters):\n",
    "            loss[t], err[t] = self.loss(X, y, theta[t])\n",
    "            theta[t+1] -= alpha * self.gradient(X, y, theta[t])\n",
    "        theta = theta[0:iters, :]\n",
    "        return theta, loss, err"
   ]
  },
  {
   "cell_type": "markdown",
   "metadata": {},
   "source": [
    "#### Neural Network"
   ]
  },
  {
   "cell_type": "code",
   "execution_count": null,
   "metadata": {
    "collapsed": true
   },
   "outputs": [],
   "source": [
    "def nn(x, W, b, f):\n",
    "    \"\"\"\n",
    "    Compute output of a neural network.\n",
    "\n",
    "    Input:\n",
    "        x: numpy array of input\n",
    "        W: list of numpy arrays for W parameters\n",
    "        b: list of numpy arraos for b parameters\n",
    "        f: list of activation functions for each layer\n",
    "\n",
    "    Output:\n",
    "        z: list of activationsn, where each element in the list is a tuple:\n",
    "           (z_i, z'_i)\n",
    "           for z_i and z'_i each being a numpy array of activations/derivatives\n",
    "    \"\"\"\n",
    "\n",
    "    z = [(x,)] + [[]]*len(W)\n",
    "    for i in range(len(W)):\n",
    "        z[i+1] = (f[i](W[i] @ z[i][0] + b[i])[0],\n",
    "                  f[i](W[i] @ z[i][0] + b[i])[1])\n",
    "    return z\n"
   ]
  },
  {
   "cell_type": "code",
   "execution_count": null,
   "metadata": {
    "collapsed": true
   },
   "outputs": [],
   "source": [
    "def nn_loss(x, y, W, b, f):\n",
    "    \"\"\"\n",
    "    Compute loss of a neural net prediction, plus gradients of parameters\n",
    "\n",
    "    Input:\n",
    "        x: numpy array of input\n",
    "        y: numpy array of output\n",
    "        W: list of numpy arrays for W parameters\n",
    "        b: list of numpy arrays for b parameters\n",
    "        f: list of activation functions for each layer\n",
    "\n",
    "    Output tuple: (L, dW, db)\n",
    "        L: softmax loss on this example\n",
    "        dW: list of numpy arrays for gradients of W parameters\n",
    "        db: list of numpy arrays for gradients of b parameters\n",
    "    \"\"\"\n",
    "\n",
    "    z = nn(x,W,b,f)\n",
    "    L, dL = softmax_loss(z[-1][0], y)\n",
    "    \n",
    "    db = [np.zeros(bi.shape) for bi in b]\n",
    "    dW = [np.zeros(Wi.shape) for Wi in W]\n",
    "    \n",
    "    g = dL\n",
    "    db[-1] = g * z[-1][1]\n",
    "    dW[-1] = (g * z[-1][1])[:,None] @ z[-2][0][None,:]\n",
    "    \n",
    "    for i in range(len(db)-2, -1, -1):\n",
    "        g = W[i+1].T @ (g * z[i+2][1])\n",
    "        db[i] = g * z[i+1][1]\n",
    "        dW[i] = (g * z[i+1][1])[:,None] @ z[i][0][None,:]\n",
    "\n",
    "    return L, dW, db\n"
   ]
  },
  {
   "cell_type": "code",
   "execution_count": null,
   "metadata": {
    "collapsed": true
   },
   "outputs": [],
   "source": [
    "def nn_sgd(X,y, Xt, yt, W, b, f, epochs=10, alpha = 0.01):\n",
    "    \"\"\"\n",
    "    Run stochastic gradient descent to solve linear softmax regression.\n",
    "\n",
    "    Inputs:\n",
    "        X: numpy array of training inputs\n",
    "        y: numpy array of training outputs\n",
    "        Xt: numpy array of testing inputs\n",
    "        yt: numpy array of testing outputs\n",
    "        W: list of W parameters (with initial values)\n",
    "        b: list of b parameters (with initial values)\n",
    "        f: list of activation functions\n",
    "        epochs: number of passes to make over the whole training set\n",
    "        alpha: step size\n",
    "\n",
    "    Output: None (you can directly update the W and b inputs in place)\n",
    "    \"\"\"\n",
    "    m = X.shape[0]\n",
    "    print(\"{0:10}|{1:10}|{2:10}|{3:10}\".\\\n",
    "          format(\"Test Err\", \"Train Err\", \"Test Loss\", \"Train Loss\"))\n",
    "\n",
    "    # TODO: Modify W and b in-place.\n",
    "    for i in range(epochs):\n",
    "        yp = np.vstack([nn(x, W, b, f)[-1][0] for x in X_train])\n",
    "        ypt = np.vstack([nn(x, W, b, f)[-1][0] for x in X_test])\n",
    "        print_errors(yp, y, ypt, yt)\n",
    "        for i in range(m):\n",
    "            x_i = X_train[i]\n",
    "            y_i = y_train[i]\n",
    "            L, dW, db = nn_loss(x_i, y_i, W, b, f)\n",
    "            for j in range(len(W)):\n",
    "                b[j] -= alpha * db[j]\n",
    "                W[j] -= alpha * dW[j]\n"
   ]
  },
  {
   "cell_type": "code",
   "execution_count": null,
   "metadata": {},
   "outputs": [],
   "source": [
    "np.random.seed(0)\n",
    "layer_sizes = [784, 200, 100, 10]\n",
    "W = [0.1*np.random.randn(n,m) for m,n in zip(layer_sizes[:-1], layer_sizes[1:])]\n",
    "b = [0.1*np.random.randn(n) for n in layer_sizes[1:]]\n",
    "f = [f_relu]*(len(layer_sizes)-2) + [f_lin]\n",
    "\n",
    "z = nn(X_train[0], W, b, f)\n",
    "\n",
    "L, dW, db = nn_loss(X_train[0], y_train[0], W, b, f)\n",
    "\n",
    "# # nn_sgd should update W and b in-place.\n",
    "nn_sgd(X_train, y_train, X_test, y_test, W, b, f, epochs=10, alpha=0.01)"
   ]
  },
  {
   "cell_type": "markdown",
   "metadata": {},
   "source": [
    "### Dataset: Iris"
   ]
  },
  {
   "cell_type": "code",
   "execution_count": 7,
   "metadata": {},
   "outputs": [
    {
     "name": "stdout",
     "output_type": "stream",
     "text": [
      "Dimensions: (100, 5)\n"
     ]
    },
    {
     "data": {
      "text/html": [
       "<div>\n",
       "<style scoped>\n",
       "    .dataframe tbody tr th:only-of-type {\n",
       "        vertical-align: middle;\n",
       "    }\n",
       "\n",
       "    .dataframe tbody tr th {\n",
       "        vertical-align: top;\n",
       "    }\n",
       "\n",
       "    .dataframe thead th {\n",
       "        text-align: right;\n",
       "    }\n",
       "</style>\n",
       "<table border=\"1\" class=\"dataframe\">\n",
       "  <thead>\n",
       "    <tr style=\"text-align: right;\">\n",
       "      <th></th>\n",
       "      <th>sepal length</th>\n",
       "      <th>sepal width</th>\n",
       "      <th>petal length</th>\n",
       "      <th>petal width</th>\n",
       "      <th>label</th>\n",
       "    </tr>\n",
       "  </thead>\n",
       "  <tbody>\n",
       "    <tr>\n",
       "      <th>0</th>\n",
       "      <td>5.1</td>\n",
       "      <td>3.5</td>\n",
       "      <td>1.4</td>\n",
       "      <td>0.2</td>\n",
       "      <td>Iris-setosa</td>\n",
       "    </tr>\n",
       "    <tr>\n",
       "      <th>1</th>\n",
       "      <td>4.9</td>\n",
       "      <td>3.0</td>\n",
       "      <td>1.4</td>\n",
       "      <td>0.2</td>\n",
       "      <td>Iris-setosa</td>\n",
       "    </tr>\n",
       "    <tr>\n",
       "      <th>2</th>\n",
       "      <td>4.7</td>\n",
       "      <td>3.2</td>\n",
       "      <td>1.3</td>\n",
       "      <td>0.2</td>\n",
       "      <td>Iris-setosa</td>\n",
       "    </tr>\n",
       "    <tr>\n",
       "      <th>3</th>\n",
       "      <td>4.6</td>\n",
       "      <td>3.1</td>\n",
       "      <td>1.5</td>\n",
       "      <td>0.2</td>\n",
       "      <td>Iris-setosa</td>\n",
       "    </tr>\n",
       "    <tr>\n",
       "      <th>4</th>\n",
       "      <td>5.0</td>\n",
       "      <td>3.6</td>\n",
       "      <td>1.4</td>\n",
       "      <td>0.2</td>\n",
       "      <td>Iris-setosa</td>\n",
       "    </tr>\n",
       "  </tbody>\n",
       "</table>\n",
       "</div>"
      ],
      "text/plain": [
       "   sepal length  sepal width  petal length  petal width        label\n",
       "0           5.1          3.5           1.4          0.2  Iris-setosa\n",
       "1           4.9          3.0           1.4          0.2  Iris-setosa\n",
       "2           4.7          3.2           1.3          0.2  Iris-setosa\n",
       "3           4.6          3.1           1.5          0.2  Iris-setosa\n",
       "4           5.0          3.6           1.4          0.2  Iris-setosa"
      ]
     },
     "execution_count": 7,
     "metadata": {},
     "output_type": "execute_result"
    }
   ],
   "source": [
    "df = pd.read_table('data/iris.data.txt', sep=',', \n",
    "                   names=['sepal length', 'sepal width', 'petal length', 'petal width', 'label'])\n",
    "df = df[df['label'].isin(['Iris-setosa', 'Iris-versicolor'])]   # only keep 2 classes\n",
    "df = df.reset_index(drop=True)\n",
    "print('Dimensions:', df.shape)\n",
    "df.head()"
   ]
  },
  {
   "cell_type": "markdown",
   "metadata": {},
   "source": [
    "#### Train a logistic regression model"
   ]
  },
  {
   "cell_type": "code",
   "execution_count": 54,
   "metadata": {
    "collapsed": true
   },
   "outputs": [],
   "source": [
    "X = df.iloc[:,0:4].as_matrix()\n",
    "y = ((df['label'] == 'Iris-setosa') * 2 - 1).as_matrix()   # convert to 1 / -1 labels\n",
    "lr_model = LogisticRegression()\n",
    "theta, loss, err = lr_model.gradient_descent(X, y, 0.1, 10)"
   ]
  },
  {
   "cell_type": "code",
   "execution_count": 55,
   "metadata": {
    "scrolled": true
   },
   "outputs": [
    {
     "name": "stdout",
     "output_type": "stream",
     "text": [
      "(10, 4)\n"
     ]
    },
    {
     "data": {
      "text/plain": [
       "array([-0.09191999, -0.02300177, -0.10521241, -0.03668105])"
      ]
     },
     "execution_count": 55,
     "metadata": {},
     "output_type": "execute_result"
    }
   ],
   "source": [
    "print(theta.shape)\n",
    "theta = theta[-1]   # chose best theta\n",
    "theta"
   ]
  },
  {
   "cell_type": "markdown",
   "metadata": {},
   "source": [
    "#### Visualize loss landscape"
   ]
  },
  {
   "cell_type": "markdown",
   "metadata": {},
   "source": [
    "Visualize loss surface by holding all but one parameter constant at their optimal values. Sweep out values of the non-constant parameter around it's optimal value. Evaluate the loss for each combination of parameter values."
   ]
  },
  {
   "cell_type": "code",
   "execution_count": 69,
   "metadata": {},
   "outputs": [
    {
     "data": {
      "image/png": "[encoded data removed]",
      "text/plain": [
       "<matplotlib.figure.Figure at 0x10cce5eb8>"
      ]
     },
     "metadata": {},
     "output_type": "display_data"
    }
   ],
   "source": [
    "plt.figure(figsize=(16, 4))\n",
    "for i in range(len(theta)):\n",
    "    theta_to_change = theta[i]   # the parameter value not held constant\n",
    "    theta_to_change_sweep = np.linspace(start=(theta_to_change - 1), stop=(theta_to_change + 1), num=100)\n",
    "    all_theta_values = np.vstack([theta for i in range(100)])   # stack theta values\n",
    "    all_theta_values[:,i] = theta_to_change_sweep   # insert in non-constant theta values\n",
    "    loss = [lr_model.loss(X, y, theta_)[0] for theta_ in all_theta_values]\n",
    "    plt.subplot(1, 4, i+1)\n",
    "    plt.ylim([0,3])\n",
    "    plt.plot(theta_to_change_sweep, loss)\n",
    "    plt.title('Loss for Changing Parameter {}'.format(i))\n",
    "    plt.ylabel('Loss')\n",
    "    plt.xlabel('Paramter {}'.format(i))\n",
    "plt.tight_layout()"
   ]
  },
  {
   "cell_type": "markdown",
   "metadata": {},
   "source": [
    "Visualize loss surface by holding all but two parameters constant at their optimal values. Sweep out values of the non-constant parameters around their optimal values. Evaluate the loss for each combination of parameter values."
   ]
  },
  {
   "cell_type": "code",
   "execution_count": null,
   "metadata": {
    "collapsed": true
   },
   "outputs": [],
   "source": []
  },
  {
   "cell_type": "markdown",
   "metadata": {},
   "source": [
    "Projecting the theta parameters down to 2 dimensions through PCA."
   ]
  },
  {
   "cell_type": "code",
   "execution_count": null,
   "metadata": {},
   "outputs": [],
   "source": [
    "theta = (theta - theta.mean(axis=0)) / theta.std(axis=0)   # normalizing theta before PCA\n",
    "\n",
    "pca = PCA(n_components=2)\n",
    "theta_reduced = pca.fit_transform(theta)\n",
    "theta_reduced = pd.DataFrame(theta_reduced, columns=['theta_0', 'theta_1'])\n",
    "\n",
    "theta_reduced.head()"
   ]
  },
  {
   "cell_type": "code",
   "execution_count": null,
   "metadata": {},
   "outputs": [],
   "source": [
    "plt.figure(figsize=(8,6))\n",
    "plt.plot(theta_reduced[\"theta_0\"], theta_reduced[\"theta_1\"], lw=0.5)\n",
    "plt.title(\"Gradient descent trajectory: PCA dimensions\", fontsize=14)\n",
    "plt.xlabel(\"PC theta 0\", fontsize=13)\n",
    "plt.ylabel(\"PC theta 1\", fontsize=13)"
   ]
  },
  {
   "cell_type": "markdown",
   "metadata": {},
   "source": [
    "Creating a dense grid of points centered around the thetas from each iteration of gradient descent. These sampled points will be used for evaluating loss in their regions."
   ]
  },
  {
   "cell_type": "code",
   "execution_count": null,
   "metadata": {},
   "outputs": [],
   "source": [
    "plt.figure(figsize=(8,6))\n",
    "plt.plot(theta_reduced[\"theta_0\"], theta_reduced[\"theta_1\"], lw=0.5)\n",
    "\n",
    "num_samples = 40\n",
    "offset = 1\n",
    "min_theta_0, min_theta_1 = theta_reduced[\"theta_0\"].min(), theta_reduced[\"theta_1\"].min()\n",
    "max_theta_0, max_theta_1 = theta_reduced[\"theta_0\"].max(), theta_reduced[\"theta_1\"].max()\n",
    "theta_0_range = np.linspace(min_theta_0 - offset, max_theta_0 + offset, num_samples)\n",
    "theta_1_range = np.linspace(min_theta_1 - offset, max_theta_1 + offset, num_samples)\n",
    "theta_0_points, theta_1_points = np.meshgrid(theta_0_range, theta_1_range)\n",
    "plt.plot(theta_0_points, theta_1_points, '.', ms=1, color='k')\n",
    "plt.title(\"Theta point grid for PCA dimensions\", fontsize=14)\n",
    "plt.xlabel(\"PC theta 0\", fontsize=13)\n",
    "plt.ylabel(\"PC theta 1\", fontsize=13)"
   ]
  },
  {
   "cell_type": "markdown",
   "metadata": {},
   "source": [
    "Create a matrix of the 2D grid of points."
   ]
  },
  {
   "cell_type": "code",
   "execution_count": null,
   "metadata": {},
   "outputs": [],
   "source": [
    "all_theta_points_2D = []\n",
    "for theta_0 in theta_0_range:\n",
    "    for theta_1 in theta_1_range:\n",
    "        all_theta_points_2D.append([theta_0, theta_1])\n",
    "all_theta_points_2D = np.array(all_theta_points_2D)\n",
    "print(all_theta_points_2D.shape)\n",
    "print(all_theta_points_2D)"
   ]
  },
  {
   "cell_type": "markdown",
   "metadata": {},
   "source": [
    "Project theta parameters from the 2D points back into their original space."
   ]
  },
  {
   "cell_type": "code",
   "execution_count": null,
   "metadata": {},
   "outputs": [],
   "source": [
    "all_theta_points_projected = pca.inverse_transform(all_theta_points_2D)\n",
    "print(all_theta_points_projected.shape)\n",
    "print(all_theta_points_projected)"
   ]
  },
  {
   "cell_type": "markdown",
   "metadata": {},
   "source": [
    "Compute loss from projected theta values."
   ]
  },
  {
   "cell_type": "code",
   "execution_count": null,
   "metadata": {},
   "outputs": [],
   "source": [
    "grid_rows, grid_cols = theta_0_points.shape\n",
    "loss = np.zeros((grid_rows, grid_cols))\n",
    "for i in range(grid_rows):\n",
    "    for j in range(grid_cols):\n",
    "        theta_ij = all_theta_points_projected[i*grid_rows + j]\n",
    "        loss[i, j] = lr_model.loss(X, y, theta_ij)[0]\n",
    "print(loss.shape)\n",
    "loss"
   ]
  },
  {
   "cell_type": "markdown",
   "metadata": {},
   "source": [
    "Visualizing the loss landscape with a 3D plot.\n",
    "\n"
   ]
  },
  {
   "cell_type": "code",
   "execution_count": null,
   "metadata": {},
   "outputs": [],
   "source": [
    "from mpl_toolkits import mplot3d\n",
    "fig = plt.figure(figsize=(10,6))\n",
    "ax = plt.axes(projection='3d')\n",
    "\n",
    "ax.plot_surface(theta_0_points, theta_1_points, loss, cmap='viridis')\n",
    "ax.set_title('PCA loss landscape: logistic regression on Iris data',\n",
    "             fontsize=14)\n",
    "ax.set_xlabel('PC theta 0', fontsize=13)\n",
    "ax.set_ylabel('PC theta 1', fontsize=13)\n",
    "ax.set_zlabel('Loss \\n(projected thetas)')\n",
    "ax.view_init(40, 220)"
   ]
  },
  {
   "cell_type": "markdown",
   "metadata": {},
   "source": [
    "Saving theta and loss point values"
   ]
  },
  {
   "cell_type": "code",
   "execution_count": null,
   "metadata": {
    "scrolled": true
   },
   "outputs": [],
   "source": [
    "df = pd.DataFrame({'theta_0': theta_0_points.reshape(num_samples**2),\n",
    "                   'theta_1': theta_1_points.reshape(num_samples**2),\n",
    "                   'loss': loss.reshape(num_samples**2)},\n",
    "                  columns = ['theta_0', 'theta_1', 'loss'])\n",
    "df.to_csv('data/PCA_loss_LR_iris.csv', index=False)\n",
    "df.head()"
   ]
  },
  {
   "cell_type": "markdown",
   "metadata": {},
   "source": [
    "#### Train an SVM model"
   ]
  },
  {
   "cell_type": "code",
   "execution_count": null,
   "metadata": {
    "collapsed": true
   },
   "outputs": [],
   "source": [
    "svm_model = SVM()\n",
    "theta, loss, err = svm_model.gradient_descent(X, y, 0.1, 10)"
   ]
  },
  {
   "cell_type": "markdown",
   "metadata": {},
   "source": [
    "Projecting the theta parameters down to 2 dimensions through PCA."
   ]
  },
  {
   "cell_type": "code",
   "execution_count": null,
   "metadata": {
    "collapsed": true
   },
   "outputs": [],
   "source": [
    "theta = (theta - theta.mean(axis=0)) / theta.std(axis=0)   # normalizing theta before PCA\n",
    "\n",
    "pca = PCA(n_components=2)\n",
    "theta_reduced = pca.fit_transform(theta)\n",
    "theta_reduced = pd.DataFrame(theta_reduced, columns=['theta_0', 'theta_1'])"
   ]
  },
  {
   "cell_type": "markdown",
   "metadata": {},
   "source": [
    "Creating a dense grid of points centered around the thetas from each iteration of gradient descent. These sampled points will be used for evaluating loss in their regions."
   ]
  },
  {
   "cell_type": "code",
   "execution_count": null,
   "metadata": {},
   "outputs": [],
   "source": [
    "plt.figure(figsize=(8,6))\n",
    "plt.plot(theta_reduced[\"theta_0\"], theta_reduced[\"theta_1\"], lw=0.5)\n",
    "\n",
    "num_samples = 40\n",
    "offset = 1\n",
    "min_theta_0, min_theta_1 = theta_reduced[\"theta_0\"].min(), theta_reduced[\"theta_1\"].min()\n",
    "max_theta_0, max_theta_1 = theta_reduced[\"theta_0\"].max(), theta_reduced[\"theta_1\"].max()\n",
    "theta_0_range = np.linspace(min_theta_0 - offset, max_theta_0 + offset, num_samples)\n",
    "theta_1_range = np.linspace(min_theta_1 - offset, max_theta_1 + offset, num_samples)\n",
    "theta_0_points, theta_1_points = np.meshgrid(theta_0_range, theta_1_range)\n",
    "plt.plot(theta_0_points, theta_1_points, '.', ms=1, color='k')\n",
    "plt.title(\"Theta point grid for PCA dimensions\", fontsize=14)\n",
    "plt.xlabel(\"PC theta 0\", fontsize=13)\n",
    "plt.ylabel(\"PC theta 1\", fontsize=13)"
   ]
  },
  {
   "cell_type": "markdown",
   "metadata": {},
   "source": [
    "Create a matrix of the 2D grid of points."
   ]
  },
  {
   "cell_type": "code",
   "execution_count": null,
   "metadata": {
    "collapsed": true
   },
   "outputs": [],
   "source": [
    "all_theta_points_2D = []\n",
    "for theta_0 in theta_0_range:\n",
    "    for theta_1 in theta_1_range:\n",
    "        all_theta_points_2D.append([theta_0, theta_1])\n",
    "all_theta_points_2D = np.array(all_theta_points_2D)"
   ]
  },
  {
   "cell_type": "markdown",
   "metadata": {},
   "source": [
    "Project theta parameters from the 2D points back into their original space."
   ]
  },
  {
   "cell_type": "code",
   "execution_count": null,
   "metadata": {
    "collapsed": true
   },
   "outputs": [],
   "source": [
    "all_theta_points_projected = pca.inverse_transform(all_theta_points_2D)"
   ]
  },
  {
   "cell_type": "markdown",
   "metadata": {},
   "source": [
    "Compute loss from projected theta values."
   ]
  },
  {
   "cell_type": "code",
   "execution_count": null,
   "metadata": {
    "collapsed": true
   },
   "outputs": [],
   "source": [
    "grid_rows, grid_cols = theta_0_points.shape\n",
    "loss = np.zeros((grid_rows, grid_cols))\n",
    "for i in range(grid_rows):\n",
    "    for j in range(grid_cols):\n",
    "        theta_ij = all_theta_points_projected[i*grid_rows + j]\n",
    "        loss[i, j] = svm_model.loss(X, y, theta_ij)[0]"
   ]
  },
  {
   "cell_type": "markdown",
   "metadata": {},
   "source": [
    "Visualizing the loss landscape with a 3D plot.\n",
    "\n"
   ]
  },
  {
   "cell_type": "code",
   "execution_count": null,
   "metadata": {},
   "outputs": [],
   "source": [
    "from mpl_toolkits import mplot3d\n",
    "fig = plt.figure(figsize=(10,6))\n",
    "ax = plt.axes(projection='3d')\n",
    "\n",
    "ax.plot_surface(theta_0_points, theta_1_points, loss, cmap='viridis')\n",
    "ax.set_title('PCA loss landscape: SVM on Iris data',\n",
    "             fontsize=14)\n",
    "ax.set_xlabel('PC theta 0', fontsize=13)\n",
    "ax.set_ylabel('PC theta 1', fontsize=13)\n",
    "ax.set_zlabel('Loss \\n(projected thetas)')\n",
    "ax.view_init(30, 140)"
   ]
  },
  {
   "cell_type": "markdown",
   "metadata": {},
   "source": [
    "Saving theta and loss point values"
   ]
  },
  {
   "cell_type": "code",
   "execution_count": null,
   "metadata": {
    "collapsed": true,
    "scrolled": true
   },
   "outputs": [],
   "source": [
    "df = pd.DataFrame({'theta_0': theta_0_points.reshape(num_samples**2),\n",
    "                   'theta_1': theta_1_points.reshape(num_samples**2),\n",
    "                   'loss': loss.reshape(num_samples**2)},\n",
    "                  columns = ['theta_0', 'theta_1', 'loss'])\n",
    "df.to_csv('data/PCA_loss_SVM_iris.csv', index=False)"
   ]
  },
  {
   "cell_type": "markdown",
   "metadata": {},
   "source": [
    "### Dataset: Breast Cancer"
   ]
  },
  {
   "cell_type": "code",
   "execution_count": null,
   "metadata": {},
   "outputs": [],
   "source": [
    "df = pd.read_csv(\"data/breast-cancer.csv\")\n",
    "df = df.drop(['id', 'Unnamed: 32'], axis=1)\n",
    "print('Dimensions:', df.shape)\n",
    "df.head()\n"
   ]
  },
  {
   "cell_type": "markdown",
   "metadata": {},
   "source": [
    "#### Train a logistic regression model"
   ]
  },
  {
   "cell_type": "code",
   "execution_count": null,
   "metadata": {
    "collapsed": true
   },
   "outputs": [],
   "source": [
    "X = df.iloc[:,1:31].as_matrix()\n",
    "X = (X - X.mean(axis=0))/X.std(axis=0)\n",
    "y = ((df['diagnosis'] == 'M') * 2 - 1).as_matrix()   # convert to 1 / -1 labels\n",
    "lr_model = LogisticRegression()\n",
    "theta, loss, err = lr_model.gradient_descent(X, y, 0.1, 10)"
   ]
  },
  {
   "cell_type": "code",
   "execution_count": null,
   "metadata": {
    "scrolled": true
   },
   "outputs": [],
   "source": [
    "print(theta.shape)\n",
    "theta"
   ]
  },
  {
   "cell_type": "markdown",
   "metadata": {},
   "source": [
    "Projecting the theta parameters down to 2 dimensions through PCA."
   ]
  },
  {
   "cell_type": "code",
   "execution_count": null,
   "metadata": {},
   "outputs": [],
   "source": [
    "theta = (theta - theta.mean(axis=0)) / theta.std(axis=0)   # normalizing theta before PCA\n",
    "\n",
    "pca = PCA(n_components=2)\n",
    "theta_reduced = pca.fit_transform(theta)\n",
    "theta_reduced = pd.DataFrame(theta_reduced, columns=['theta_0', 'theta_1'])\n",
    "\n",
    "theta_reduced.head()"
   ]
  },
  {
   "cell_type": "code",
   "execution_count": null,
   "metadata": {},
   "outputs": [],
   "source": [
    "plt.figure(figsize=(8,6))\n",
    "plt.plot(theta_reduced[\"theta_0\"], theta_reduced[\"theta_1\"], lw=0.5)\n",
    "plt.title(\"Gradient descent trajectory: PCA dimensions\", fontsize=14)\n",
    "plt.xlabel(\"PC theta 0\", fontsize=13)\n",
    "plt.ylabel(\"PC theta 1\", fontsize=13)"
   ]
  },
  {
   "cell_type": "markdown",
   "metadata": {},
   "source": [
    "Creating a dense grid of points centered around the thetas from each iteration of gradient descent. These sampled points will be used for evaluating loss in their regions."
   ]
  },
  {
   "cell_type": "code",
   "execution_count": null,
   "metadata": {},
   "outputs": [],
   "source": [
    "plt.figure(figsize=(8,6))\n",
    "plt.plot(theta_reduced[\"theta_0\"], theta_reduced[\"theta_1\"], lw=0.5)\n",
    "\n",
    "num_samples = 40\n",
    "offset = 1\n",
    "min_theta_0, min_theta_1 = theta_reduced[\"theta_0\"].min(), theta_reduced[\"theta_1\"].min()\n",
    "max_theta_0, max_theta_1 = theta_reduced[\"theta_0\"].max(), theta_reduced[\"theta_1\"].max()\n",
    "theta_0_range = np.linspace(min_theta_0 - offset, max_theta_0 + offset, num_samples)\n",
    "theta_1_range = np.linspace(min_theta_1 - offset, max_theta_1 + offset, num_samples)\n",
    "theta_0_points, theta_1_points = np.meshgrid(theta_0_range, theta_1_range)\n",
    "plt.plot(theta_0_points, theta_1_points, '.', ms=1, color='k')\n",
    "plt.title(\"Theta point grid for PCA dimensions\", fontsize=14)\n",
    "plt.xlabel(\"PC theta 0\", fontsize=13)\n",
    "plt.ylabel(\"PC theta 1\", fontsize=13)"
   ]
  },
  {
   "cell_type": "markdown",
   "metadata": {},
   "source": [
    "Create a matrix of the 2D grid of points."
   ]
  },
  {
   "cell_type": "code",
   "execution_count": null,
   "metadata": {},
   "outputs": [],
   "source": [
    "all_theta_points_2D = []\n",
    "for theta_0 in theta_0_range:\n",
    "    for theta_1 in theta_1_range:\n",
    "        all_theta_points_2D.append([theta_0, theta_1])\n",
    "all_theta_points_2D = np.array(all_theta_points_2D)\n",
    "print(all_theta_points_2D.shape)\n",
    "print(all_theta_points_2D)"
   ]
  },
  {
   "cell_type": "markdown",
   "metadata": {},
   "source": [
    "Project theta parameters from the 2D points back into their original space."
   ]
  },
  {
   "cell_type": "code",
   "execution_count": null,
   "metadata": {},
   "outputs": [],
   "source": [
    "all_theta_points_projected = pca.inverse_transform(all_theta_points_2D)\n",
    "print(all_theta_points_projected.shape)\n",
    "print(all_theta_points_projected)"
   ]
  },
  {
   "cell_type": "markdown",
   "metadata": {},
   "source": [
    "Compute loss from projected theta values."
   ]
  },
  {
   "cell_type": "code",
   "execution_count": null,
   "metadata": {},
   "outputs": [],
   "source": [
    "grid_rows, grid_cols = theta_0_points.shape\n",
    "loss = np.zeros((grid_rows, grid_cols))\n",
    "for i in range(grid_rows):\n",
    "    for j in range(grid_cols):\n",
    "        theta_ij = all_theta_points_projected[i*grid_rows + j]\n",
    "        loss[i, j] = lr_model.loss(X, y, theta_ij)[0]\n",
    "print(loss.shape)\n",
    "loss"
   ]
  },
  {
   "cell_type": "markdown",
   "metadata": {},
   "source": [
    "Visualizing the loss landscape with a 3D plot.\n",
    "\n"
   ]
  },
  {
   "cell_type": "code",
   "execution_count": null,
   "metadata": {},
   "outputs": [],
   "source": [
    "from mpl_toolkits import mplot3d\n",
    "fig = plt.figure(figsize=(10,6))\n",
    "ax = plt.axes(projection='3d')\n",
    "\n",
    "ax.plot_surface(theta_0_points, theta_1_points, loss, cmap='viridis')\n",
    "ax.set_title('PCA loss landscape: \\nlogistic regression on breast cancer data',\n",
    "             fontsize=14)\n",
    "ax.set_xlabel('PC theta 0', fontsize=13)\n",
    "ax.set_ylabel('PC theta 1', fontsize=13)\n",
    "ax.set_zlabel('Loss \\n(projected thetas)')\n",
    "ax.view_init(20, 200)"
   ]
  },
  {
   "cell_type": "markdown",
   "metadata": {},
   "source": [
    "Saving theta and loss point values"
   ]
  },
  {
   "cell_type": "code",
   "execution_count": null,
   "metadata": {
    "scrolled": true
   },
   "outputs": [],
   "source": [
    "df = pd.DataFrame({'theta_0': theta_0_points.reshape(num_samples**2),\n",
    "                   'theta_1': theta_1_points.reshape(num_samples**2),\n",
    "                   'loss': loss.reshape(num_samples**2)},\n",
    "                  columns = ['theta_0', 'theta_1', 'loss'])\n",
    "df.to_csv('data/PCA_loss_LR_cancer.csv', index=False)\n",
    "df.head()"
   ]
  },
  {
   "cell_type": "markdown",
   "metadata": {},
   "source": [
    "#### Train an SVM model"
   ]
  },
  {
   "cell_type": "code",
   "execution_count": null,
   "metadata": {
    "collapsed": true
   },
   "outputs": [],
   "source": [
    "svm_model = SVM()\n",
    "theta, loss, err = svm_model.gradient_descent(X, y, 0.1, 10)"
   ]
  },
  {
   "cell_type": "markdown",
   "metadata": {},
   "source": [
    "Projecting the theta parameters down to 2 dimensions through PCA."
   ]
  },
  {
   "cell_type": "code",
   "execution_count": null,
   "metadata": {
    "collapsed": true
   },
   "outputs": [],
   "source": [
    "theta = (theta - theta.mean(axis=0)) / theta.std(axis=0)   # normalizing theta before PCA\n",
    "\n",
    "pca = PCA(n_components=2)\n",
    "theta_reduced = pca.fit_transform(theta)\n",
    "theta_reduced = pd.DataFrame(theta_reduced, columns=['theta_0', 'theta_1'])"
   ]
  },
  {
   "cell_type": "markdown",
   "metadata": {},
   "source": [
    "Creating a dense grid of points centered around the thetas from each iteration of gradient descent. These sampled points will be used for evaluating loss in their regions."
   ]
  },
  {
   "cell_type": "code",
   "execution_count": null,
   "metadata": {},
   "outputs": [],
   "source": [
    "plt.figure(figsize=(8,6))\n",
    "plt.plot(theta_reduced[\"theta_0\"], theta_reduced[\"theta_1\"], lw=0.5)\n",
    "\n",
    "num_samples = 40\n",
    "offset = 1\n",
    "min_theta_0, min_theta_1 = theta_reduced[\"theta_0\"].min(), theta_reduced[\"theta_1\"].min()\n",
    "max_theta_0, max_theta_1 = theta_reduced[\"theta_0\"].max(), theta_reduced[\"theta_1\"].max()\n",
    "theta_0_range = np.linspace(min_theta_0 - offset, max_theta_0 + offset, num_samples)\n",
    "theta_1_range = np.linspace(min_theta_1 - offset, max_theta_1 + offset, num_samples)\n",
    "theta_0_points, theta_1_points = np.meshgrid(theta_0_range, theta_1_range)\n",
    "plt.plot(theta_0_points, theta_1_points, '.', ms=1, color='k')\n",
    "plt.title(\"Theta point grid for PCA dimensions\", fontsize=14)\n",
    "plt.xlabel(\"PC theta 0\", fontsize=13)\n",
    "plt.ylabel(\"PC theta 1\", fontsize=13)"
   ]
  },
  {
   "cell_type": "markdown",
   "metadata": {},
   "source": [
    "Create a matrix of the 2D grid of points."
   ]
  },
  {
   "cell_type": "code",
   "execution_count": null,
   "metadata": {
    "collapsed": true
   },
   "outputs": [],
   "source": [
    "all_theta_points_2D = []\n",
    "for theta_0 in theta_0_range:\n",
    "    for theta_1 in theta_1_range:\n",
    "        all_theta_points_2D.append([theta_0, theta_1])\n",
    "all_theta_points_2D = np.array(all_theta_points_2D)"
   ]
  },
  {
   "cell_type": "markdown",
   "metadata": {},
   "source": [
    "Project theta parameters from the 2D points back into their original space."
   ]
  },
  {
   "cell_type": "code",
   "execution_count": null,
   "metadata": {
    "collapsed": true
   },
   "outputs": [],
   "source": [
    "all_theta_points_projected = pca.inverse_transform(all_theta_points_2D)"
   ]
  },
  {
   "cell_type": "markdown",
   "metadata": {},
   "source": [
    "Compute loss from projected theta values."
   ]
  },
  {
   "cell_type": "code",
   "execution_count": null,
   "metadata": {
    "collapsed": true
   },
   "outputs": [],
   "source": [
    "grid_rows, grid_cols = theta_0_points.shape\n",
    "loss = np.zeros((grid_rows, grid_cols))\n",
    "for i in range(grid_rows):\n",
    "    for j in range(grid_cols):\n",
    "        theta_ij = all_theta_points_projected[i*grid_rows + j]\n",
    "        loss[i, j] = svm_model.loss(X, y, theta_ij)[0]"
   ]
  },
  {
   "cell_type": "markdown",
   "metadata": {},
   "source": [
    "Visualizing the loss landscape with a 3D plot.\n",
    "\n"
   ]
  },
  {
   "cell_type": "code",
   "execution_count": null,
   "metadata": {},
   "outputs": [],
   "source": [
    "from mpl_toolkits import mplot3d\n",
    "fig = plt.figure(figsize=(10,6))\n",
    "ax = plt.axes(projection='3d')\n",
    "\n",
    "ax.plot_surface(theta_0_points, theta_1_points, loss, cmap='viridis')\n",
    "ax.set_title('PCA loss landscape: \\nSVM on breast cancer data',\n",
    "             fontsize=14)\n",
    "ax.set_xlabel('PC theta 0', fontsize=13)\n",
    "ax.set_ylabel('PC theta 1', fontsize=13)\n",
    "ax.set_zlabel('Loss \\n(projected thetas)')\n",
    "ax.view_init(30, 180)"
   ]
  },
  {
   "cell_type": "markdown",
   "metadata": {},
   "source": [
    "Saving theta and loss point values"
   ]
  },
  {
   "cell_type": "code",
   "execution_count": null,
   "metadata": {
    "collapsed": true,
    "scrolled": true
   },
   "outputs": [],
   "source": [
    "df = pd.DataFrame({'theta_0': theta_0_points.reshape(num_samples**2),\n",
    "                   'theta_1': theta_1_points.reshape(num_samples**2),\n",
    "                   'loss': loss.reshape(num_samples**2)},\n",
    "                  columns = ['theta_0', 'theta_1', 'loss'])\n",
    "df.to_csv('data/PCA_loss_SVM_cancer.csv', index=False)"
   ]
  },
  {
   "cell_type": "code",
   "execution_count": null,
   "metadata": {
    "collapsed": true
   },
   "outputs": [],
   "source": []
  }
 ],
 "metadata": {
  "anaconda-cloud": {},
  "kernelspec": {
   "display_name": "Python [py36]",
   "language": "python",
   "name": "Python [py36]"
  },
  "language_info": {
   "codemirror_mode": {
    "name": "ipython",
    "version": 3
   },
   "file_extension": ".py",
   "mimetype": "text/x-python",
   "name": "python",
   "nbconvert_exporter": "python",
   "pygments_lexer": "ipython3",
   "version": "3.6.3"
  }
 },
 "nbformat": 4,
 "nbformat_minor": 1
}
